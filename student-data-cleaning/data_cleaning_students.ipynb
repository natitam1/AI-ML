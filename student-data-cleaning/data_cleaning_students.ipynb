{
 "cells": [
  {
   "cell_type": "code",
   "execution_count": 1,
   "id": "506f8fa7",
   "metadata": {},
   "outputs": [],
   "source": [
    "import pandas as pd"
   ]
  },
  {
   "cell_type": "code",
   "execution_count": 11,
   "id": "f8cce3a3",
   "metadata": {},
   "outputs": [
    {
     "data": {
      "text/plain": [
       "'0     False\\n1     False\\n2     False\\n3     False\\n4     False\\n5     False\\n6     False\\n7     False\\n8     False\\n9     False\\n10    False\\n11    False\\n12    False\\n13    False\\n14    False\\n15    False\\n16    False\\n17    False\\n18    False\\n19    False\\n20    False\\n21    False\\n22    False\\n23    False\\n24    False\\n25    False\\n26    False\\n27    False\\n28    False\\n29    False\\n30    False\\n31    False\\n32    False\\n33    False\\n34    False\\n35    False\\n36    False\\n37    False\\n38    False\\n39    False'"
      ]
     },
     "execution_count": 11,
     "metadata": {},
     "output_type": "execute_result"
    }
   ],
   "source": [
    "df = pd.read_csv(\"student.csv\")\n",
    "pd.options.display.max_rows = 9999\n",
    "df.duplicated().to_string()"
   ]
  }
 ],
 "metadata": {
  "kernelspec": {
   "display_name": "Python 3",
   "language": "python",
   "name": "python3"
  },
  "language_info": {
   "codemirror_mode": {
    "name": "ipython",
    "version": 3
   },
   "file_extension": ".py",
   "mimetype": "text/x-python",
   "name": "python",
   "nbconvert_exporter": "python",
   "pygments_lexer": "ipython3",
   "version": "3.13.3"
  }
 },
 "nbformat": 4,
 "nbformat_minor": 5
}
